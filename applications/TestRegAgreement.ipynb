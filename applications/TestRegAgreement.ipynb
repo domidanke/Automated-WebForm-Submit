{
 "cells": [
  {
   "cell_type": "code",
   "execution_count": 1,
   "metadata": {},
   "outputs": [],
   "source": [
    "from selenium import webdriver\n",
    "from selenium.webdriver.common.keys import Keys\n",
    "import time"
   ]
  },
  {
   "cell_type": "markdown",
   "metadata": {},
   "source": [
    "# Predefined"
   ]
  },
  {
   "cell_type": "code",
   "execution_count": 2,
   "metadata": {},
   "outputs": [],
   "source": [
    "# Checkbox name list\n",
    "checkboxes = [\"tfa_3\",\"tfa_281\",\"tfa_296\",\"tfa_319\",\"tfa_342\",\"tfa_365\",\"tfa_388\",\"tfa_411\",\"tfa_432\",\"tfa_455\"]\n",
    "\n",
    "# -- Are you registering as a --\n",
    "regAs = [\"tfa_15\",\"tfa_16\"]\n",
    "# 15: Traditional  16: Adult\n",
    "\n",
    "# -- Which location do you wish to attend class  --\n",
    "location = [\"tfa_18\",\"tfa_20\"]\n",
    "# 18: Campus  20: Online"
   ]
  },
  {
   "cell_type": "code",
   "execution_count": 12,
   "metadata": {},
   "outputs": [
    {
     "data": {
      "text/plain": [
       "30"
      ]
     },
     "execution_count": 12,
     "metadata": {},
     "output_type": "execute_result"
    }
   ],
   "source": [
    "# tfa_504: Mdsc No, tfa_505: Mdsc Yes\n",
    "\n",
    "#30\n",
    "tradBachelorsN = {\"tfa_504\": [\"tfa_52\",\"tfa_54\",\"tfa_55\",\"tfa_658\",\"tfa_659\",\"tfa_508\",\"tfa_499\",\"tfa_456\",\"tfa_506\",\"tfa_483\",\n",
    "                        \"tfa_60\",\"tfa_56\",\"tfa_57\",\"tfa_58\",\"tfa_59\",\"tfa_495\",\"tfa_509\",\"tfa_61\",\"tfa_492\",\"tfa_493\",\n",
    "                        \"tfa_53\",\"tfa_496\",\"tfa_497\",\"tfa_62\",\"tfa_491\",\"tfa_65\",\"tfa_507\",\"tfa_66\",\"tfa_67\",\"tfa_68\"]}\n",
    "\n",
    "#48\n",
    "tradBachelorsY = {\"tfa_505\": [\"tfa_498\",\"tfa_510\",\"tfa_223\",\"tfa_511\",\"tfa_224\",\"tfa_225\",\"tfa_226\",\"tfa_227\",\n",
    "                        \"tfa_588\",\"tfa_589\",\"tfa_590\",\"tfa_591\",\"tfa_592\",\"tfa_593\",                    \n",
    "                        \"tfa_595\",\"tfa_596\",\"tfa_597\",\"tfa_598\",\"tfa_599\",\"tfa_600\",\"tfa_601\",                        \n",
    "                        \"tfa_603\",\"tfa_604\",\"tfa_605\",\"tfa_606\",\"tfa_607\",\"tfa_608\",\n",
    "                       \"tfa_609\",\"tfa_611\",\"tfa_612\",\"tfa_613\",\"tfa_614\",\"tfa_615\",\"tfa_616\",                        \n",
    "                        \"tfa_618\",\"tfa_619\",\"tfa_620\",\"tfa_621\",\"tfa_622\",\"tfa_623\",\"tfa_624\",                        \n",
    "                        \"tfa_626\",\"tfa_627\",\"tfa_628\",\"tfa_629\",\"tfa_630\",\"tfa_631\",\"tfa_632\",                        \n",
    "                        \"tfa_634\",\"tfa_635\",\"tfa_636\",\"tfa_637\",\"tfa_638\",\"tfa_639\",\"tfa_640\"]}\n",
    "#21\n",
    "tradBachelorsYBio = {\"tfa_587\":[\"tfa_241\",\"tfa_242\",\"tfa_243\"],\n",
    "                 \"tfa_594\":[\"tfa_241\",\"tfa_242\",\"tfa_243\"],\n",
    "                 \"tfa_602\":[\"tfa_241\",\"tfa_242\",\"tfa_243\"],\n",
    "                 \"tfa_610\":[\"tfa_241\",\"tfa_242\",\"tfa_243\"],\n",
    "                 \"tfa_617\":[\"tfa_241\",\"tfa_242\",\"tfa_243\"],\n",
    "                 \"tfa_625\":[\"tfa_241\",\"tfa_242\",\"tfa_243\"],\n",
    "                 \"tfa_633\":[\"tfa_241\",\"tfa_242\",\"tfa_243\"]}\n",
    "\n",
    "totalTradBachelors = [tradBachelorsN, tradBachelorsY, tradBachelorsYBio]\n",
    "\n",
    "adultBachelors = [\"tfa_42\",\"tfa_43\",\"tfa_656\",\"tfa_657\",\"tfa_196\",\"tfa_44\",\"tfa_45\",\"tfa_46\",\"tfa_482\",\"tfa_459\",\n",
    "                        \"tfa_47\",\"tfa_48\",\"tfa_480\",\"tfa_50\"]\n",
    "\n",
    "adultCerts = [\"tfa_468\",\"tfa_469\",\"tfa_490\",\"tfa_481\",\"tfa_470\",\"tfa_489\",\"tfa_488\",\"tfa_487\",\"tfa_486\",\"tfa_485\",\n",
    "                        \"tfa_484\",\"tfa_471\"]\n",
    "\n",
    "adultMasters = [\"tfa_124\",\"tfa_651\",\"tfa_652\",\"tfa_653\",\"tfa_654\",\"tfa_655\",\"tfa_125\",\"tfa_647\",\"tfa_648\",\"tfa_650\",\n",
    "                        \"tfa_649\",\"tfa_646\",\"tfa_473\",\"tfa_461\",\"tfa_642\",\"tfa_643\",\"tfa_644\",\"tfa_645\"]\n",
    "len(tradBachelorsN[\"tfa_504\"])"
   ]
  },
  {
   "cell_type": "code",
   "execution_count": 3,
   "metadata": {},
   "outputs": [],
   "source": [
    "# check checkboxes\n",
    "def checkCheckboxes():\n",
    "    for checkbox in checkboxes:\n",
    "        driver.find_element_by_name(checkbox).click()\n",
    "    time.sleep(0.5)\n",
    "\n",
    "def secPage():\n",
    "    driver.find_element_by_class_name(\"wfPageNextButton\").click()\n",
    "    driver.find_element_by_id(\"tfa_160\").send_keys('TT')\n",
    "    driver.find_element_by_id(\"tfa_162\").send_keys('TT')\n",
    "    driver.find_element_by_id(\"tfa_165\").send_keys('TEST')\n",
    "    driver.find_element_by_id(\"tfa_167\").send_keys('RegAgreement')\n",
    "    driver.find_element_by_id(\"tfa_180\").send_keys('02/17/2000')\n",
    "    driver.find_element_by_id(\"tfa_181\").send_keys('andy.marks+rega220@macu.edu')\n",
    "    driver.find_element_by_id(\"tfa_179\").send_keys('8818')\n",
    "    driver.find_element_by_id(\"submit_button\").click()\n",
    "    driver.find_element_by_class_name(\"primaryAction.slds-button.slds-button--brand.full-width\").click()\n",
    "    time.sleep(1)\n",
    "    driver.get(\"https://midacu.tfaforms.net/217782\")"
   ]
  },
  {
   "cell_type": "code",
   "execution_count": 239,
   "metadata": {},
   "outputs": [],
   "source": [
    "def tradA():\n",
    "    checkCheckboxes()\n",
    "    driver.find_element_by_id(\"tfa_15\").click()\n",
    "    driver.find_element_by_id(\"tfa_581\").click()\n",
    "    driver.find_element_by_id(\"tfa_663\").click()\n",
    "    secPage()\n",
    "    \n",
    "# Go through all permutations of bachelors list for traditional students; bl: Bachelors List\n",
    "def submitTradBachelors(bl):\n",
    "    for category in bl:\n",
    "        for k,v in category.items():\n",
    "            for i in v:\n",
    "                checkCheckboxes()\n",
    "                driver.find_element_by_id(\"tfa_15\").click()\n",
    "                driver.find_element_by_id(\"tfa_582\").click()\n",
    "                #tradB()\n",
    "                print(k)\n",
    "                driver.find_element_by_id(k).click()\n",
    "                print(i)\n",
    "                driver.find_element_by_id(i).click()\n",
    "                secPage()\n",
    "\n",
    "# different list structure; permutations consist of three values                \n",
    "def submitTradBachelorsBiology(b):\n",
    "    for k,v in b.items():\n",
    "        for i in v:\n",
    "            checkCheckboxes()\n",
    "            driver.find_element_by_id(\"tfa_15\").click()\n",
    "            driver.find_element_by_id(\"tfa_582\").click()\n",
    "            driver.find_element_by_id(\"tfa_505\").click()\n",
    "            print(k)\n",
    "            driver.find_element_by_id(k).click()\n",
    "            print(i)\n",
    "            driver.find_element_by_id(i).click()\n",
    "            secPage()\n",
    "            \n",
    "def tradCert():\n",
    "    certs = [\"tfa_118\",\"tfa_119\"]\n",
    "    for cert in certs:\n",
    "        checkCheckboxes()\n",
    "        driver.find_element_by_id(\"tfa_15\").click()\n",
    "        driver.find_element_by_id(\"tfa_583\").click()\n",
    "        driver.find_element_by_id(cert).click()\n",
    "        secPage()\n",
    "        \n",
    "def tradConc():\n",
    "    checkCheckboxes()\n",
    "    driver.find_element_by_id(\"tfa_15\").click()\n",
    "    driver.find_element_by_id(\"tfa_584\").click()\n",
    "    driver.find_element_by_name(\"tfa_191\").click()\n",
    "    secPage()\n",
    "    \n",
    "def tradUncl():\n",
    "    checkCheckboxes()\n",
    "    driver.find_element_by_id(\"tfa_15\").click()\n",
    "    driver.find_element_by_id(\"tfa_586\").click()\n",
    "    secPage()\n",
    "    \n",
    "# input true or false for online or on ground\n",
    "def adultA(online):\n",
    "    checkCheckboxes()\n",
    "    tag = \"tfa_18\" if online else \"tfa_20\"\n",
    "    driver.find_element_by_id(\"tfa_16\").click()\n",
    "    driver.find_element_by_id(tag).click()\n",
    "    driver.find_element_by_id(\"tfa_23\").click()\n",
    "    driver.find_element_by_name(\"tfa_667\").click()\n",
    "    secPage()\n",
    "\n",
    "# Next three can be improved to merge into one function that takes degree as input in form of tsa_blabla\n",
    "# input true or false for online or on ground\n",
    "def adultB(online):\n",
    "    tag = \"tfa_18\" if online else \"tfa_20\"\n",
    "    for bachelor in adultBachelors:    \n",
    "        checkCheckboxes()\n",
    "        driver.find_element_by_id(\"tfa_16\").click()\n",
    "        driver.find_element_by_id(tag).click()\n",
    "        driver.find_element_by_id(\"tfa_24\").click()\n",
    "        driver.find_element_by_id(bachelor).click()\n",
    "        secPage()\n",
    "        \n",
    "# input true or false for online or on ground        \n",
    "def adultCert(online):\n",
    "    tag = \"tfa_18\" if online else \"tfa_20\"\n",
    "    for cert in adultCerts:    \n",
    "        checkCheckboxes()\n",
    "        driver.find_element_by_id(\"tfa_16\").click()\n",
    "        driver.find_element_by_id(tag).click()\n",
    "        driver.find_element_by_id(\"tfa_27\").click()\n",
    "        driver.find_element_by_id(cert).click()\n",
    "        secPage()\n",
    "\n",
    "def adultM(online):\n",
    "    tag = \"tfa_18\" if online else \"tfa_20\"\n",
    "    for master in adultMasters:    \n",
    "        checkCheckboxes()\n",
    "        driver.find_element_by_id(\"tfa_16\").click()\n",
    "        driver.find_element_by_id(tag).click()\n",
    "        driver.find_element_by_id(\"tfa_572\").click()\n",
    "        driver.find_element_by_id(master).click()\n",
    "        secPage()\n",
    "\n",
    "def adultUnclN(online):\n",
    "    checkCheckboxes()\n",
    "    tag = \"tfa_18\" if online else \"tfa_20\"\n",
    "    driver.find_element_by_id(\"tfa_16\").click()\n",
    "    driver.find_element_by_id(tag).click()\n",
    "    driver.find_element_by_id(\"tfa_28\").click()\n",
    "    driver.find_element_by_id(\"tfa_176\").click()\n",
    "    secPage()\n",
    "    \n",
    "def adultUnclY(online):\n",
    "    prereqs = [\"tfa_193\",\"tfa_197\"]\n",
    "    for prereq in prereqs:\n",
    "        checkCheckboxes()\n",
    "        tag = \"tfa_18\" if online else \"tfa_20\"\n",
    "        driver.find_element_by_id(\"tfa_16\").click()\n",
    "        driver.find_element_by_id(tag).click()\n",
    "        driver.find_element_by_id(\"tfa_28\").click()\n",
    "        driver.find_element_by_id(\"tfa_175\").click()\n",
    "        driver.find_element_by_id(prereq).click()\n",
    "        secPage()"
   ]
  },
  {
   "cell_type": "markdown",
   "metadata": {},
   "source": [
    "# Start Chrome"
   ]
  },
  {
   "cell_type": "code",
   "execution_count": 10,
   "metadata": {},
   "outputs": [],
   "source": [
    "driver = webdriver.Chrome(executable_path=r\"C:\\webdrivers\\chromedriver.exe\")\n",
    "driver.get(\"https://midacu.tfaforms.net/217782\")\n",
    "driver.maximize_window()"
   ]
  },
  {
   "cell_type": "code",
   "execution_count": 9,
   "metadata": {},
   "outputs": [
    {
     "ename": "NoSuchWindowException",
     "evalue": "Message: no such window: window was already closed\n  (Session info: chrome=80.0.3987.106)\n",
     "output_type": "error",
     "traceback": [
      "\u001b[1;31m---------------------------------------------------------------------------\u001b[0m",
      "\u001b[1;31mNoSuchWindowException\u001b[0m                     Traceback (most recent call last)",
      "\u001b[1;32m<ipython-input-9-f0c40d9870e7>\u001b[0m in \u001b[0;36m<module>\u001b[1;34m\u001b[0m\n\u001b[1;32m----> 1\u001b[1;33m \u001b[0mcheckCheckboxes\u001b[0m\u001b[1;33m(\u001b[0m\u001b[1;33m)\u001b[0m\u001b[1;33m\u001b[0m\u001b[1;33m\u001b[0m\u001b[0m\n\u001b[0m",
      "\u001b[1;32m<ipython-input-3-4f2c9e406dff>\u001b[0m in \u001b[0;36mcheckCheckboxes\u001b[1;34m()\u001b[0m\n\u001b[0;32m      2\u001b[0m \u001b[1;32mdef\u001b[0m \u001b[0mcheckCheckboxes\u001b[0m\u001b[1;33m(\u001b[0m\u001b[1;33m)\u001b[0m\u001b[1;33m:\u001b[0m\u001b[1;33m\u001b[0m\u001b[1;33m\u001b[0m\u001b[0m\n\u001b[0;32m      3\u001b[0m     \u001b[1;32mfor\u001b[0m \u001b[0mcheckbox\u001b[0m \u001b[1;32min\u001b[0m \u001b[0mcheckboxes\u001b[0m\u001b[1;33m:\u001b[0m\u001b[1;33m\u001b[0m\u001b[1;33m\u001b[0m\u001b[0m\n\u001b[1;32m----> 4\u001b[1;33m         \u001b[0mdriver\u001b[0m\u001b[1;33m.\u001b[0m\u001b[0mfind_element_by_name\u001b[0m\u001b[1;33m(\u001b[0m\u001b[0mcheckbox\u001b[0m\u001b[1;33m)\u001b[0m\u001b[1;33m.\u001b[0m\u001b[0mclick\u001b[0m\u001b[1;33m(\u001b[0m\u001b[1;33m)\u001b[0m\u001b[1;33m\u001b[0m\u001b[1;33m\u001b[0m\u001b[0m\n\u001b[0m\u001b[0;32m      5\u001b[0m     \u001b[0mtime\u001b[0m\u001b[1;33m.\u001b[0m\u001b[0msleep\u001b[0m\u001b[1;33m(\u001b[0m\u001b[1;36m0.5\u001b[0m\u001b[1;33m)\u001b[0m\u001b[1;33m\u001b[0m\u001b[1;33m\u001b[0m\u001b[0m\n\u001b[0;32m      6\u001b[0m \u001b[1;33m\u001b[0m\u001b[0m\n",
      "\u001b[1;32m~\\AppData\\Local\\Continuum\\anaconda3\\lib\\site-packages\\selenium\\webdriver\\remote\\webdriver.py\u001b[0m in \u001b[0;36mfind_element_by_name\u001b[1;34m(self, name)\u001b[0m\n\u001b[0;32m    494\u001b[0m             \u001b[0melement\u001b[0m \u001b[1;33m=\u001b[0m \u001b[0mdriver\u001b[0m\u001b[1;33m.\u001b[0m\u001b[0mfind_element_by_name\u001b[0m\u001b[1;33m(\u001b[0m\u001b[1;34m'foo'\u001b[0m\u001b[1;33m)\u001b[0m\u001b[1;33m\u001b[0m\u001b[1;33m\u001b[0m\u001b[0m\n\u001b[0;32m    495\u001b[0m         \"\"\"\n\u001b[1;32m--> 496\u001b[1;33m         \u001b[1;32mreturn\u001b[0m \u001b[0mself\u001b[0m\u001b[1;33m.\u001b[0m\u001b[0mfind_element\u001b[0m\u001b[1;33m(\u001b[0m\u001b[0mby\u001b[0m\u001b[1;33m=\u001b[0m\u001b[0mBy\u001b[0m\u001b[1;33m.\u001b[0m\u001b[0mNAME\u001b[0m\u001b[1;33m,\u001b[0m \u001b[0mvalue\u001b[0m\u001b[1;33m=\u001b[0m\u001b[0mname\u001b[0m\u001b[1;33m)\u001b[0m\u001b[1;33m\u001b[0m\u001b[1;33m\u001b[0m\u001b[0m\n\u001b[0m\u001b[0;32m    497\u001b[0m \u001b[1;33m\u001b[0m\u001b[0m\n\u001b[0;32m    498\u001b[0m     \u001b[1;32mdef\u001b[0m \u001b[0mfind_elements_by_name\u001b[0m\u001b[1;33m(\u001b[0m\u001b[0mself\u001b[0m\u001b[1;33m,\u001b[0m \u001b[0mname\u001b[0m\u001b[1;33m)\u001b[0m\u001b[1;33m:\u001b[0m\u001b[1;33m\u001b[0m\u001b[1;33m\u001b[0m\u001b[0m\n",
      "\u001b[1;32m~\\AppData\\Local\\Continuum\\anaconda3\\lib\\site-packages\\selenium\\webdriver\\remote\\webdriver.py\u001b[0m in \u001b[0;36mfind_element\u001b[1;34m(self, by, value)\u001b[0m\n\u001b[0;32m    976\u001b[0m         return self.execute(Command.FIND_ELEMENT, {\n\u001b[0;32m    977\u001b[0m             \u001b[1;34m'using'\u001b[0m\u001b[1;33m:\u001b[0m \u001b[0mby\u001b[0m\u001b[1;33m,\u001b[0m\u001b[1;33m\u001b[0m\u001b[1;33m\u001b[0m\u001b[0m\n\u001b[1;32m--> 978\u001b[1;33m             'value': value})['value']\n\u001b[0m\u001b[0;32m    979\u001b[0m \u001b[1;33m\u001b[0m\u001b[0m\n\u001b[0;32m    980\u001b[0m     \u001b[1;32mdef\u001b[0m \u001b[0mfind_elements\u001b[0m\u001b[1;33m(\u001b[0m\u001b[0mself\u001b[0m\u001b[1;33m,\u001b[0m \u001b[0mby\u001b[0m\u001b[1;33m=\u001b[0m\u001b[0mBy\u001b[0m\u001b[1;33m.\u001b[0m\u001b[0mID\u001b[0m\u001b[1;33m,\u001b[0m \u001b[0mvalue\u001b[0m\u001b[1;33m=\u001b[0m\u001b[1;32mNone\u001b[0m\u001b[1;33m)\u001b[0m\u001b[1;33m:\u001b[0m\u001b[1;33m\u001b[0m\u001b[1;33m\u001b[0m\u001b[0m\n",
      "\u001b[1;32m~\\AppData\\Local\\Continuum\\anaconda3\\lib\\site-packages\\selenium\\webdriver\\remote\\webdriver.py\u001b[0m in \u001b[0;36mexecute\u001b[1;34m(self, driver_command, params)\u001b[0m\n\u001b[0;32m    319\u001b[0m         \u001b[0mresponse\u001b[0m \u001b[1;33m=\u001b[0m \u001b[0mself\u001b[0m\u001b[1;33m.\u001b[0m\u001b[0mcommand_executor\u001b[0m\u001b[1;33m.\u001b[0m\u001b[0mexecute\u001b[0m\u001b[1;33m(\u001b[0m\u001b[0mdriver_command\u001b[0m\u001b[1;33m,\u001b[0m \u001b[0mparams\u001b[0m\u001b[1;33m)\u001b[0m\u001b[1;33m\u001b[0m\u001b[1;33m\u001b[0m\u001b[0m\n\u001b[0;32m    320\u001b[0m         \u001b[1;32mif\u001b[0m \u001b[0mresponse\u001b[0m\u001b[1;33m:\u001b[0m\u001b[1;33m\u001b[0m\u001b[1;33m\u001b[0m\u001b[0m\n\u001b[1;32m--> 321\u001b[1;33m             \u001b[0mself\u001b[0m\u001b[1;33m.\u001b[0m\u001b[0merror_handler\u001b[0m\u001b[1;33m.\u001b[0m\u001b[0mcheck_response\u001b[0m\u001b[1;33m(\u001b[0m\u001b[0mresponse\u001b[0m\u001b[1;33m)\u001b[0m\u001b[1;33m\u001b[0m\u001b[1;33m\u001b[0m\u001b[0m\n\u001b[0m\u001b[0;32m    322\u001b[0m             response['value'] = self._unwrap_value(\n\u001b[0;32m    323\u001b[0m                 response.get('value', None))\n",
      "\u001b[1;32m~\\AppData\\Local\\Continuum\\anaconda3\\lib\\site-packages\\selenium\\webdriver\\remote\\errorhandler.py\u001b[0m in \u001b[0;36mcheck_response\u001b[1;34m(self, response)\u001b[0m\n\u001b[0;32m    240\u001b[0m                 \u001b[0malert_text\u001b[0m \u001b[1;33m=\u001b[0m \u001b[0mvalue\u001b[0m\u001b[1;33m[\u001b[0m\u001b[1;34m'alert'\u001b[0m\u001b[1;33m]\u001b[0m\u001b[1;33m.\u001b[0m\u001b[0mget\u001b[0m\u001b[1;33m(\u001b[0m\u001b[1;34m'text'\u001b[0m\u001b[1;33m)\u001b[0m\u001b[1;33m\u001b[0m\u001b[1;33m\u001b[0m\u001b[0m\n\u001b[0;32m    241\u001b[0m             \u001b[1;32mraise\u001b[0m \u001b[0mexception_class\u001b[0m\u001b[1;33m(\u001b[0m\u001b[0mmessage\u001b[0m\u001b[1;33m,\u001b[0m \u001b[0mscreen\u001b[0m\u001b[1;33m,\u001b[0m \u001b[0mstacktrace\u001b[0m\u001b[1;33m,\u001b[0m \u001b[0malert_text\u001b[0m\u001b[1;33m)\u001b[0m\u001b[1;33m\u001b[0m\u001b[1;33m\u001b[0m\u001b[0m\n\u001b[1;32m--> 242\u001b[1;33m         \u001b[1;32mraise\u001b[0m \u001b[0mexception_class\u001b[0m\u001b[1;33m(\u001b[0m\u001b[0mmessage\u001b[0m\u001b[1;33m,\u001b[0m \u001b[0mscreen\u001b[0m\u001b[1;33m,\u001b[0m \u001b[0mstacktrace\u001b[0m\u001b[1;33m)\u001b[0m\u001b[1;33m\u001b[0m\u001b[1;33m\u001b[0m\u001b[0m\n\u001b[0m\u001b[0;32m    243\u001b[0m \u001b[1;33m\u001b[0m\u001b[0m\n\u001b[0;32m    244\u001b[0m     \u001b[1;32mdef\u001b[0m \u001b[0m_value_or_default\u001b[0m\u001b[1;33m(\u001b[0m\u001b[0mself\u001b[0m\u001b[1;33m,\u001b[0m \u001b[0mobj\u001b[0m\u001b[1;33m,\u001b[0m \u001b[0mkey\u001b[0m\u001b[1;33m,\u001b[0m \u001b[0mdefault\u001b[0m\u001b[1;33m)\u001b[0m\u001b[1;33m:\u001b[0m\u001b[1;33m\u001b[0m\u001b[1;33m\u001b[0m\u001b[0m\n",
      "\u001b[1;31mNoSuchWindowException\u001b[0m: Message: no such window: window was already closed\n  (Session info: chrome=80.0.3987.106)\n"
     ]
    }
   ],
   "source": [
    "checkCheckboxes()"
   ]
  },
  {
   "cell_type": "code",
   "execution_count": null,
   "metadata": {},
   "outputs": [],
   "source": []
  }
 ],
 "metadata": {
  "kernelspec": {
   "display_name": "Python 3",
   "language": "python",
   "name": "python3"
  },
  "language_info": {
   "codemirror_mode": {
    "name": "ipython",
    "version": 3
   },
   "file_extension": ".py",
   "mimetype": "text/x-python",
   "name": "python",
   "nbconvert_exporter": "python",
   "pygments_lexer": "ipython3",
   "version": "3.7.4"
  }
 },
 "nbformat": 4,
 "nbformat_minor": 2
}
